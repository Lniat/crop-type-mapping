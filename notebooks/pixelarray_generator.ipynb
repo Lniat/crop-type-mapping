{
 "cells": [
  {
   "cell_type": "code",
   "execution_count": 1,
   "metadata": {},
   "outputs": [
    {
     "name": "stderr",
     "output_type": "stream",
     "text": [
      "Using TensorFlow backend.\n"
     ]
    }
   ],
   "source": [
    "import sys \n",
    "import datetime\n",
    "import h5py\n",
    "sys.path.insert(0, '../')\n",
    "\n",
    "from constants import * \n",
    "import datasets\n",
    "import loss_fns\n",
    "import models\n",
    "import hickle\n",
    "import util"
   ]
  },
  {
   "cell_type": "code",
   "execution_count": 2,
   "metadata": {},
   "outputs": [],
   "source": [
    "train_parser = util.get_train_parser()\n",
    "args = train_parser.parse_args(['--epochs', str(1),\n",
    "                                '--model_name', 'fcn_crnn',\n",
    "                                '--dataset', 'full', \n",
    "                                '--num_classes', str(4),\n",
    "                                '--country', 'ghana',\n",
    "                                '--hdf5_filepath', '/home/lijing/croptype_data_local/data/ghana/data.hdf5',\n",
    "                                '--batch_size', str(1),\n",
    "                                '--hidden_dims', str(4),\n",
    "                                '--crnn_num_layers', str(1),\n",
    "                                '--use_s1', str(True),\n",
    "                                '--use_s2', str(True),\n",
    "                                '--sample_w_clouds', str(False),\n",
    "                                '--include_clouds', str(True),\n",
    "                                '--include_doy', str(True),\n",
    "                                '--bidirectional', str(False), \n",
    "                                '--shuffle', str(False),\n",
    "                                '--normalize', str(False),\n",
    "                                '--apply_transforms', str(False),\n",
    "                                '--least_cloudy', str(False),\n",
    "                                '--s2_num_bands', str(4)])\n",
    "    \n",
    "# load in data generator\n",
    "dataloaders = datasets.get_dataloaders(args.grid_dir, args.country, args.dataset, args)\n",
    "model_name =  'random_forest'\n",
    "save_path =  '/home/lijing/croptype_data_local/data/ghana/pixel_array.h5'"
   ]
  },
  {
   "cell_type": "code",
   "execution_count": 11,
   "metadata": {},
   "outputs": [],
   "source": [
    "def hdf5_pixelwise(model_name, save_path, args=None, dataloaders = None):\n",
    "    # transfer data.hdf5 to pixel_array.h5\n",
    "    if model_name in ['logreg', 'random_forest']:\n",
    "        pixel_data = {}\n",
    "        for split in ['train','test','val']:\n",
    "            print(split)\n",
    "            dl = dataloaders[split]\n",
    "            Input = None\n",
    "            Target = None\n",
    "            Cloudmask = None\n",
    "            for inputs, targets, cloudmasks in dl:\n",
    "                if Input is None:\n",
    "                    Input = np.copy(inputs)\n",
    "                    Target = np.copy(targets)\n",
    "                    Cloudmask = np.copy(cloudmasks)\n",
    "                else:\n",
    "                    Input = np.vstack((Input, inputs))\n",
    "                    Target = np.vstack((Target, targets))\n",
    "                    Cloudmask = np.vstack((Cloudmask, cloudmasks))\n",
    "                    \n",
    "                if Input.shape[0]%100 == 0:\n",
    "                    print(Input.shape[0])\n",
    "            # resize\n",
    "            Target = Target.reshape(Target.shape[0],Target.shape[1],-1)\n",
    "            Target = np.swapaxes(Target, 1, 2)\n",
    "            Target = Target.reshape(-1,Target.shape[2])\n",
    "\n",
    "            Input = Input.reshape(Input.shape[0],Input.shape[1],Input.shape[2],-1)\n",
    "            Input = np.swapaxes(Input, 0, 2)\n",
    "            Input = Input.reshape(Input.shape[0],Input.shape[1],-1)\n",
    "            Input = np.swapaxes(Input, 0, 1)\n",
    "            # bytime: rgbrgbrgb\n",
    "            Input = Input.reshape(-1,Input.shape[2]).T\n",
    "\n",
    "            Cloudmask = Cloudmask.reshape(-1,Cloudmask.shape[4])\n",
    "            \n",
    "            pixel_data[split] = [Input,Target,Cloudmask]\n",
    "            \n",
    "        hickle.dump(pixel_data, save_path)"
   ]
  },
  {
   "cell_type": "code",
   "execution_count": null,
   "metadata": {},
   "outputs": [
    {
     "name": "stdout",
     "output_type": "stream",
     "text": [
      "train\n",
      "100\n",
      "200\n",
      "300\n",
      "400\n",
      "500\n",
      "600\n",
      "700\n",
      "800\n",
      "900\n",
      "1000\n",
      "1100\n",
      "1200\n",
      "1300\n",
      "1400\n",
      "1500\n",
      "1600\n",
      "1700\n",
      "1800\n",
      "1900\n",
      "2000\n",
      "2100\n",
      "2200\n"
     ]
    }
   ],
   "source": [
    "hdf5_pixelwise(model_name, save_path, args, dataloaders)"
   ]
  },
  {
   "cell_type": "code",
   "execution_count": null,
   "metadata": {},
   "outputs": [],
   "source": []
  }
 ],
 "metadata": {
  "kernelspec": {
   "display_name": "Python [conda env:croptype]",
   "language": "python",
   "name": "conda-env-croptype-py"
  },
  "language_info": {
   "codemirror_mode": {
    "name": "ipython",
    "version": 3
   },
   "file_extension": ".py",
   "mimetype": "text/x-python",
   "name": "python",
   "nbconvert_exporter": "python",
   "pygments_lexer": "ipython3",
   "version": "3.6.6"
  }
 },
 "nbformat": 4,
 "nbformat_minor": 2
}
